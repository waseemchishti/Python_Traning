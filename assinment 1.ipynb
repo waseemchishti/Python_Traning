{
 "cells": [
  {
   "cell_type": "code",
   "execution_count": 1,
   "id": "ad80cc6e",
   "metadata": {},
   "outputs": [
    {
     "name": "stdout",
     "output_type": "stream",
     "text": [
      "Saif\n"
     ]
    }
   ],
   "source": [
    "# 22-07-2023\n",
    "# M.Saif\n",
    "# Printing name\n",
    "print(\"Saif\")"
   ]
  },
  {
   "cell_type": "code",
   "execution_count": 2,
   "id": "0cfee5e2",
   "metadata": {},
   "outputs": [
    {
     "name": "stdout",
     "output_type": "stream",
     "text": [
      "Paar channa te dise kuli yaar di\n",
      "Na ho k b Kareeb tu hamesha pass tha\n",
      "Tu Hai tu mujy phir or kiya chahiye\n"
     ]
    }
   ],
   "source": [
    "# 22-07-2023\n",
    "# M.Saif\n",
    "# Printing lyrics of the songs\n",
    "print(\"Paar channa te dise kuli yaar di\")\n",
    "print(\"Na ho k b Kareeb tu hamesha pass tha\")\n",
    "print(\"Tu Hai tu mujy phir or kiya chahiye\")"
   ]
  },
  {
   "cell_type": "code",
   "execution_count": 4,
   "id": "49bfd341",
   "metadata": {},
   "outputs": [
    {
     "name": "stdout",
     "output_type": "stream",
     "text": [
      "5\n",
      "6\n",
      "8\n"
     ]
    }
   ],
   "source": [
    "# 22-07-2023\n",
    "# M.Saif\n",
    "# storing values in variables\n",
    "x = 5\n",
    "y = 6\n",
    "z = 8\n",
    "# printing that value by variables\n",
    "print(x)\n",
    "print(y)\n",
    "print(z)"
   ]
  },
  {
   "cell_type": "code",
   "execution_count": 2,
   "id": "b70bf7ae",
   "metadata": {},
   "outputs": [
    {
     "name": "stdout",
     "output_type": "stream",
     "text": [
      "96\n",
      "96\n",
      "100\n"
     ]
    }
   ],
   "source": [
    "# 22-07-2023\n",
    "# M.Saif\n",
    "# Adding two values and storing answer into x\n",
    "x = 64 + 32\n",
    "# printing x\n",
    "print(x)\n",
    "# altering the value of x\n",
    "x = 3\n",
    "y = 4\n",
    "# creating a program that sums x + y\n",
    "z = x + y\n",
    "print(x)\n",
    "print(z)"
   ]
  },
  {
   "cell_type": "code",
   "execution_count": 7,
   "id": "1215fb86",
   "metadata": {},
   "outputs": [
    {
     "name": "stdout",
     "output_type": "stream",
     "text": [
      "My lucky\n",
      "The date is 6/11/2004\n"
     ]
    }
   ],
   "source": [
    "# 22-07-2023\n",
    "# M.Saif\n",
    "# Printing lucky number\n",
    "s = \"My lucky number is %d, what is yours?\" % 7\n",
    "print(s[3:8])\n",
    "# Print the day, month, year\n",
    "# %d this sign use to take value where user wants by adding values after % sign \n",
    "s = \"The date is %d/%d/%d\" % (6, 11, 2004)\n",
    "print(s)"
   ]
  },
  {
   "cell_type": "code",
   "execution_count": 34,
   "id": "1e53b0c0",
   "metadata": {},
   "outputs": [
    {
     "name": "stdout",
     "output_type": "stream",
     "text": [
      "2\n"
     ]
    }
   ],
   "source": [
    "# 22-07-2023\n",
    "# M.Saif\n",
    "# Printing random number\n",
    "# we use import keyword before random to access the modulus of random\n",
    "# to print random numbers\n",
    "import random\n",
    "x = random.randrange(1,20)\n",
    "print(x)"
   ]
  },
  {
   "cell_type": "code",
   "execution_count": 37,
   "id": "e833c8cc",
   "metadata": {},
   "outputs": [
    {
     "name": "stdout",
     "output_type": "stream",
     "text": [
      "11\n",
      "1\n",
      "27\n"
     ]
    }
   ],
   "source": [
    "# 22-07-2023\n",
    "# M.Saif\n",
    "# Printing three random number but this time by creating an object of random\n",
    "import random as r\n",
    "print(r.randrange(1,20))\n",
    "print(r.randrange(1,30))\n",
    "print(r.randrange(1,40))"
   ]
  },
  {
   "cell_type": "code",
   "execution_count": 42,
   "id": "487fb004",
   "metadata": {},
   "outputs": [
    {
     "name": "stdout",
     "output_type": "stream",
     "text": [
      "Enter number: 0312-3456789\n",
      "Your phone number is : 0312-3456789\n",
      "Python or Ruby?: python\n",
      "You chose : python\n"
     ]
    }
   ],
   "source": [
    "# 22-07-2023\n",
    "# M.Saif\n",
    "# Printing phone number by taking value from user\n",
    "number = input(\"Enter number: \")\n",
    "print(\"Your phone number is : \" + number)\n",
    "# Make a program that asks the users preferred programming language.\n",
    "you_like = input(\"Python or Ruby?: \")\n",
    "print(\"You chose : \" + you_like)"
   ]
  },
  {
   "cell_type": "code",
   "execution_count": 57,
   "id": "af86ae4e",
   "metadata": {},
   "outputs": [
    {
     "name": "stdout",
     "output_type": "stream",
     "text": [
      "Number: 11\n",
      "Invalid number\n"
     ]
    }
   ],
   "source": [
    "# 22-07-2023\n",
    "# M.Saif\n",
    "# taking value from user and using if else control on it\n",
    "x = int(input(\"Number: \"))\n",
    "if x < 0 or x > 10:\n",
    " print(\"Invalid number\")\n",
    "else:\n",
    " print(\"Good choice\")"
   ]
  },
  {
   "cell_type": "code",
   "execution_count": 61,
   "id": "2add647c",
   "metadata": {},
   "outputs": [
    {
     "name": "stdout",
     "output_type": "stream",
     "text": [
      "Password: code\n",
      "Correct\n"
     ]
    }
   ],
   "source": [
    "# 22-07-2023\n",
    "# M.Saif\n",
    "# creating password by if and else statement\n",
    "password = input(\"Password: \")\n",
    "if password == \"code\":\n",
    " print(\"Correct\")\n",
    "else:\n",
    " print(\"Incorrect\")"
   ]
  },
  {
   "cell_type": "code",
   "execution_count": 68,
   "id": "995e8f83",
   "metadata": {},
   "outputs": [
    {
     "name": "stdout",
     "output_type": "stream",
     "text": [
      "Canada\n",
      "USA\n",
      "Mexico\n",
      "Australia\n"
     ]
    }
   ],
   "source": [
    "# 22-07-2023\n",
    "# M.Saif\n",
    "# Creating a for loop and then printing it\n",
    "clist = ['Canada','USA','Mexico','Australia']\n",
    "for c in clist:\n",
    " print(c)"
   ]
  },
  {
   "cell_type": "code",
   "execution_count": 9,
   "id": "94261334",
   "metadata": {},
   "outputs": [
    {
     "name": "stdout",
     "output_type": "stream",
     "text": [
      "Canada\n",
      "USA\n",
      "Mexico\n"
     ]
    }
   ],
   "source": [
    "# 22-07-2023\n",
    "# M.Saif\n",
    "# Applling a while loop and then printing it \n",
    "clist = [\"Canada\",\"USA\",\"Mexico\"]\n",
    "size = len(clist)\n",
    "i = 0\n",
    "while i < size:\n",
    "  print(clist[i])\n",
    "  i = i + 1\n"
   ]
  },
  {
   "cell_type": "code",
   "execution_count": null,
   "id": "8ff7f19d",
   "metadata": {},
   "outputs": [],
   "source": [
    "# 22-07-2023\n",
    "# M.Saif\n",
    "# Making a list and then adding the whole list by using functions\n",
    "def sum(list):\n",
    " sum = 0\n",
    " for e in list:\n",
    "   sum = sum + e\n",
    " return sum\n",
    "mylist = [1,2,3,4,5]\n",
    "print(sum(mylist))"
   ]
  },
  {
   "cell_type": "code",
   "execution_count": null,
   "id": "4c85ab9d",
   "metadata": {},
   "outputs": [],
   "source": [
    "# 22-07-2023\n",
    "# M.Saif\n",
    "# printing states name by using for loop\n",
    "states = [\n",
    "'Alabama','Alaska','Arizona','Arkansas','California','Colorado','Connecticut','Delaware'\n",
    ",'Florida','Georgia','Hawaii','Idaho','Illinois','Indiana','Iowa','Kansas','Kentucky','Louisiana','Maine','Maryland',\n",
    "'Massachusetts','Michigan','Minnesota','Mississippi','Missouri','Montana','Nebraska','Nevada','NewHampshire','New Jersey','New Mexico','New York','North Carolina',\n",
    "'North Dakota','Ohio','Oklahoma','Oregon','Pennsylvania','Rhode Island',\n",
    "'South Carolina','South Dakota','Tennessee','Texas','Utah','Vermont','Virginia','Washington','West Virginia','Wisconsin','Wyoming' ]\n",
    "for state in states:\n",
    " print(state)\n"
   ]
  },
  {
   "cell_type": "code",
   "execution_count": null,
   "id": "64cff5b8",
   "metadata": {},
   "outputs": [],
   "source": [
    "# 22-07-2023\n",
    "# M.Saif\n",
    "# printing the name of states whose name starting with M by using for loop\n",
    "states = [\n",
    "'Alabama','Alaska','Arizona','Arkansas','California','Colorado','Connecticut','Delaware'\n",
    ",'Florida','Georgia','Hawaii','Idaho','Illinois','Indiana','Iowa','Kansas','Kentucky','Louisiana','Maine','Maryland',\n",
    "'Massachusetts','Michigan','Minnesota','Mississippi','Missouri','Montana','Nebraska','Nevada','NewHampshire','New Jersey','New Mexico','New York','North Carolina',\n",
    "'North Dakota','Ohio','Oklahoma','Oregon','Pennsylvania','Rhode Island',\n",
    "'South Carolina','South Dakota','Tennessee','Texas','Utah','Vermont','Virginia','Washington','West Virginia','Wisconsin','Wyoming' ]\n",
    "for state in states:\n",
    " if state[0] == 'M':\n",
    "  print(state)\n"
   ]
  },
  {
   "cell_type": "code",
   "execution_count": null,
   "id": "ecc35629",
   "metadata": {},
   "outputs": [],
   "source": [
    "# 22-07-2023\n",
    "# M.Saif\n",
    "# adding new values in the list by using append function\n",
    "# then altering the y1 value\n",
    "y = [6,4,2]\n",
    "y.append(12)\n",
    "y.append(8)\n",
    "y.append(4)\n",
    "y[1] = 3\n",
    "print(y)"
   ]
  },
  {
   "cell_type": "code",
   "execution_count": null,
   "id": "194c5db8",
   "metadata": {},
   "outputs": [],
   "source": [
    "# 22-07-2023\n",
    "# M.Saif\n",
    "# sorting the values by using sort function\n",
    "x = [ (3,6),(4,7),(5,9),(8,4),(3,1)]\n",
    "x.sort()\n",
    "print(x)"
   ]
  },
  {
   "cell_type": "code",
   "execution_count": null,
   "id": "b3194b57",
   "metadata": {},
   "outputs": [],
   "source": [
    "# 22-07-2023\n",
    "# M.Saif\n",
    "# sorting of the values by using import function\n",
    "from operator import itemgetter\n",
    "x = [ (3,6),(4,7),(5,9),(8,4),(3,1)]\n",
    "x.sort(key=itemgetter(1))\n",
    "print(x)"
   ]
  },
  {
   "cell_type": "code",
   "execution_count": 98,
   "id": "94f3fba1",
   "metadata": {},
   "outputs": [
    {
     "name": "stdout",
     "output_type": "stream",
     "text": [
      "[1, 2, 3, 4, 5, 6, 7, 8, 9]\n"
     ]
    }
   ],
   "source": [
    "# 22-07-2023\n",
    "# M.Saif\n",
    "# printing number in range \n",
    "x = list(range(1,10))\n",
    "print(x)\n"
   ]
  },
  {
   "cell_type": "code",
   "execution_count": 99,
   "id": "27f9ee56",
   "metadata": {},
   "outputs": [
    {
     "name": "stdout",
     "output_type": "stream",
     "text": [
      "1\n",
      "1000\n"
     ]
    }
   ],
   "source": [
    "# 22-07-2023\n",
    "# M.Saif\n",
    "# printing the maximum and smallest number of the  range\n",
    "x = list(range(1,1001))\n",
    "print(min(x))\n",
    "print(max(x))"
   ]
  },
  {
   "cell_type": "code",
   "execution_count": 100,
   "id": "e455ccf9",
   "metadata": {},
   "outputs": [
    {
     "name": "stdout",
     "output_type": "stream",
     "text": [
      "[1, 3, 5, 7, 9]\n",
      "[2, 4, 6, 8, 10]\n"
     ]
    }
   ],
   "source": [
    "# 22-07-2023\n",
    "# M.Saif\n",
    "# printing the even and odd of the range\n",
    "x = list(range(1,11,2))\n",
    "y = list(range(2,11,2))\n",
    "print(x)\n",
    "print(y)"
   ]
  },
  {
   "cell_type": "code",
   "execution_count": 105,
   "id": "84f720fd",
   "metadata": {},
   "outputs": [
    {
     "name": "stdout",
     "output_type": "stream",
     "text": [
      "US = United States\n",
      "UK = United Kingdom\n",
      "AUS = Australia\n"
     ]
    }
   ],
   "source": [
    "# 22-07-2023\n",
    "# M.Saif\n",
    "# printing the abbrevation of short words\n",
    "words = {}\n",
    "words[\"US\"] = \"United States\"\n",
    "words[\"UK\"] = \"United Kingdom\"\n",
    "words[\"AUS\"] = \"Australia\"\n",
    "for key, value in words.items():\n",
    " print(key + \" = \" + value)\n"
   ]
  },
  {
   "cell_type": "code",
   "execution_count": null,
   "id": "4af64daa",
   "metadata": {},
   "outputs": [],
   "source": []
  }
 ],
 "metadata": {
  "kernelspec": {
   "display_name": "Python 3 (ipykernel)",
   "language": "python",
   "name": "python3"
  },
  "language_info": {
   "codemirror_mode": {
    "name": "ipython",
    "version": 3
   },
   "file_extension": ".py",
   "mimetype": "text/x-python",
   "name": "python",
   "nbconvert_exporter": "python",
   "pygments_lexer": "ipython3",
   "version": "3.10.9"
  }
 },
 "nbformat": 4,
 "nbformat_minor": 5
}

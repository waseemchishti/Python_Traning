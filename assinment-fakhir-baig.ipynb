{
 "cells": [
  {
   "cell_type": "code",
   "execution_count": 1,
   "id": "ad80cc6e",
   "metadata": {},
   "outputs": [
    {
     "name": "stdout",
     "output_type": "stream",
     "text": [
      "fakhir\n"
     ]
    }
   ],
   "source": [
    "print(\"fakhir\")"
   ]
  },
  {
   "cell_type": "code",
   "execution_count": 2,
   "id": "0cfee5e2",
   "metadata": {},
   "outputs": [
    {
     "name": "stdout",
     "output_type": "stream",
     "text": [
      "lyrics 1\n",
      "lyrics 2\n",
      "lyrics 3\n"
     ]
    }
   ],
   "source": [
    "print(\"lyrics 1\")\n",
    "print(\"lyrics 2\")\n",
    "print(\"lyrics 3\")"
   ]
  },
  {
   "cell_type": "code",
   "execution_count": 3,
   "id": "49bfd341",
   "metadata": {},
   "outputs": [
    {
     "name": "stdout",
     "output_type": "stream",
     "text": [
      "1\n",
      "2\n",
      "3\n"
     ]
    }
   ],
   "source": [
    "x = 1\n",
    "y = 2\n",
    "z = 3\n",
    "# printing the variables\n",
    "print(x)\n",
    "print(y)\n",
    "print(z)"
   ]
  },
  {
   "cell_type": "code",
   "execution_count": 4,
   "id": "b70bf7ae",
   "metadata": {},
   "outputs": [
    {
     "name": "stdout",
     "output_type": "stream",
     "text": [
      "102\n",
      "7\n",
      "15\n"
     ]
    }
   ],
   "source": [
    "\n",
    "x = 65 + 37\n",
    "# printing x\n",
    "print(x)\n",
    "# altering the value of x\n",
    "x = 7\n",
    "y = 8\n",
    "# creating a program that sums x + y\n",
    "z = x + y\n",
    "print(x)\n",
    "print(z)"
   ]
  },
  {
   "cell_type": "code",
   "execution_count": null,
   "id": "1215fb86",
   "metadata": {},
   "outputs": [],
   "source": [
    "s = \"My lucky number is %d, what is yours?\" % 7\n",
    "print(s[3:8])\n",
    "# Print the day, month, year\n",
    "# %d is  used to take value where user wants by adding values after % sign \n",
    "s = \"The date is %d/%d/%d\" % (6, 11, 2004)\n",
    "print(s)"
   ]
  },
  {
   "cell_type": "code",
   "execution_count": 6,
   "id": "1e53b0c0",
   "metadata": {},
   "outputs": [
    {
     "name": "stdout",
     "output_type": "stream",
     "text": [
      "13\n"
     ]
    }
   ],
   "source": [
    "# to print random numbers\n",
    "import random\n",
    "x = random.randrange(1,20)\n",
    "print(x)"
   ]
  },
  {
   "cell_type": "code",
   "execution_count": 7,
   "id": "e833c8cc",
   "metadata": {},
   "outputs": [
    {
     "name": "stdout",
     "output_type": "stream",
     "text": [
      "8\n",
      "21\n",
      "24\n"
     ]
    }
   ],
   "source": [
    "import random as r\n",
    "print(r.randrange(1,20))\n",
    "print(r.randrange(1,30))\n",
    "print(r.randrange(1,40))"
   ]
  },
  {
   "cell_type": "code",
   "execution_count": 8,
   "id": "487fb004",
   "metadata": {},
   "outputs": [
    {
     "name": "stderr",
     "output_type": "stream",
     "text": [
      "\n",
      "KeyboardInterrupt\n",
      "\n"
     ]
    }
   ],
   "source": [
    "number = input(\"Enter number: \")\n",
    "print(\"Your phone number is : \" + number)\n",
    "# Make a program that asks the users preferred programming language.\n",
    "you_like = input(\"Python or Ruby?: \")\n",
    "print(\"You chose : \" + you_like)"
   ]
  },
  {
   "cell_type": "code",
   "execution_count": null,
   "id": "af86ae4e",
   "metadata": {},
   "outputs": [],
   "source": [
    "x = int(input(\"Number: \"))\n",
    "if x < 0 or x > 10:\n",
    " print(\"Invalid number\")\n",
    "else:\n",
    " print(\"Good choice\")"
   ]
  },
  {
   "cell_type": "code",
   "execution_count": 61,
   "id": "2add647c",
   "metadata": {},
   "outputs": [
    {
     "name": "stdout",
     "output_type": "stream",
     "text": [
      "Password: code\n",
      "Correct\n"
     ]
    }
   ],
   "source": [
    "password = input(\"Password: \")\n",
    "if password == \"code\":\n",
    " print(\"Correct\")\n",
    "else:\n",
    " print(\"Incorrect\")"
   ]
  },
  {
   "cell_type": "code",
   "execution_count": null,
   "id": "995e8f83",
   "metadata": {},
   "outputs": [],
   "source": [
    "clist = ['Canada','USA','Mexico','Australia']\n",
    "for c in clist:\n",
    " print(c)"
   ]
  },
  {
   "cell_type": "code",
   "execution_count": 9,
   "id": "94261334",
   "metadata": {},
   "outputs": [
    {
     "name": "stdout",
     "output_type": "stream",
     "text": [
      "Canada\n",
      "USA\n",
      "Mexico\n"
     ]
    }
   ],
   "source": [
    "clist = [\"Canada\",\"USA\",\"Mexico\"]\n",
    "size = len(clist)\n",
    "i = 0\n",
    "while i < size:\n",
    "  print(clist[i])\n",
    "  i = i + 1\n"
   ]
  },
  {
   "cell_type": "code",
   "execution_count": null,
   "id": "8ff7f19d",
   "metadata": {},
   "outputs": [],
   "source": [
    "def sum(list):\n",
    " sum = 0\n",
    " for e in list:\n",
    "   sum = sum + e\n",
    " return sum\n",
    "mylist = [1,2,3,4,5]\n",
    "print(sum(mylist))"
   ]
  },
  {
   "cell_type": "code",
   "execution_count": null,
   "id": "4c85ab9d",
   "metadata": {},
   "outputs": [],
   "source": [
    "states = [\n",
    "'Alabama','Alaska','Arizona','Arkansas','California','Colorado','Connecticut','Delaware'\n",
    ",'Florida','Georgia','Hawaii','Idaho','Illinois','Indiana','Iowa','Kansas','Kentucky','Louisiana','Maine','Maryland',\n",
    "'Massachusetts','Michigan','Minnesota','Mississippi','Missouri','Montana','Nebraska','Nevada','NewHampshire','New Jersey','New Mexico','New York','North Carolina',\n",
    "'North Dakota','Ohio','Oklahoma','Oregon','Pennsylvania','Rhode Island',\n",
    "'South Carolina','South Dakota','Tennessee','Texas','Utah','Vermont','Virginia','Washington','West Virginia','Wisconsin','Wyoming' ]\n",
    "for state in states:\n",
    " print(state)\n"
   ]
  },
  {
   "cell_type": "code",
   "execution_count": null,
   "id": "64cff5b8",
   "metadata": {},
   "outputs": [],
   "source": [
    "states = [\n",
    "'Alabama','Alaska','Arizona','Arkansas','California','Colorado','Connecticut','Delaware'\n",
    ",'Florida','Georgia','Hawaii','Idaho','Illinois','Indiana','Iowa','Kansas','Kentucky','Louisiana','Maine','Maryland',\n",
    "'Massachusetts','Michigan','Minnesota','Mississippi','Missouri','Montana','Nebraska','Nevada','NewHampshire','New Jersey','New Mexico','New York','North Carolina',\n",
    "'North Dakota','Ohio','Oklahoma','Oregon','Pennsylvania','Rhode Island',\n",
    "'South Carolina','South Dakota','Tennessee','Texas','Utah','Vermont','Virginia','Washington','West Virginia','Wisconsin','Wyoming' ]\n",
    "for state in states:\n",
    " if state[0] == 'M':\n",
    "  print(state)\n"
   ]
  },
  {
   "cell_type": "code",
   "execution_count": null,
   "id": "ecc35629",
   "metadata": {},
   "outputs": [],
   "source": [
    "# then altering the y value\n",
    "y = [6,4,2]\n",
    "y.append(12)\n",
    "y.append(8)\n",
    "y.append(4)\n",
    "y[1] = 3\n",
    "print(y)"
   ]
  },
  {
   "cell_type": "code",
   "execution_count": null,
   "id": "194c5db8",
   "metadata": {},
   "outputs": [],
   "source": [
    "x = [ (3,6),(4,7),(5,9),(8,4),(3,1)]\n",
    "x.sort()\n",
    "print(x)"
   ]
  },
  {
   "cell_type": "code",
   "execution_count": null,
   "id": "b3194b57",
   "metadata": {},
   "outputs": [],
   "source": [
    "from operator import itemgetter\n",
    "x = [ (3,6),(4,7),(5,9),(8,4),(3,1)]\n",
    "x.sort(key=itemgetter(1))\n",
    "print(x)"
   ]
  },
  {
   "cell_type": "code",
   "execution_count": null,
   "id": "94f3fba1",
   "metadata": {},
   "outputs": [],
   "source": [
    "x = list(range(1,10))\n",
    "print(x)\n"
   ]
  },
  {
   "cell_type": "code",
   "execution_count": null,
   "id": "27f9ee56",
   "metadata": {},
   "outputs": [],
   "source": [
    "x = list(range(1,1001))\n",
    "print(min(x))\n",
    "print(max(x))"
   ]
  },
  {
   "cell_type": "code",
   "execution_count": null,
   "id": "e455ccf9",
   "metadata": {},
   "outputs": [],
   "source": [
    "x = list(range(1,11,2))\n",
    "y = list(range(2,11,2))\n",
    "print(x)\n",
    "print(y)"
   ]
  },
  {
   "cell_type": "code",
   "execution_count": 9,
   "id": "84f720fd",
   "metadata": {},
   "outputs": [
    {
     "name": "stdout",
     "output_type": "stream",
     "text": [
      "US = United States\n",
      "UK = United Kingdom\n",
      "AUS = Australia\n"
     ]
    }
   ],
   "source": [
    "words = {}\n",
    "words[\"US\"] = \"United States\"\n",
    "words[\"UK\"] = \"United Kingdom\"\n",
    "words[\"AUS\"] = \"Australia\"\n",
    "for key, value in words.items():\n",
    " print(key + \" = \" + value)\n"
   ]
  },
  {
   "cell_type": "code",
   "execution_count": null,
   "id": "e88732d8",
   "metadata": {},
   "outputs": [],
   "source": []
  }
 ],
 "metadata": {
  "kernelspec": {
   "display_name": "Python 3 (ipykernel)",
   "language": "python",
   "name": "python3"
  },
  "language_info": {
   "codemirror_mode": {
    "name": "ipython",
    "version": 3
   },
   "file_extension": ".py",
   "mimetype": "text/x-python",
   "name": "python",
   "nbconvert_exporter": "python",
   "pygments_lexer": "ipython3",
   "version": "3.11.3"
  }
 },
 "nbformat": 4,
 "nbformat_minor": 5
}

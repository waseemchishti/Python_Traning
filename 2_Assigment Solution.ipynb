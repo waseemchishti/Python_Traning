{
 "cells": [
  {
   "cell_type": "markdown",
   "id": "4a4a47ef",
   "metadata": {},
   "source": [
    "Shaheryar Anwar\n",
    "Batch = AI 2023\n",
    "Solution"
   ]
  },
  {
   "cell_type": "markdown",
   "id": "3b1459e9",
   "metadata": {},
   "source": [
    "Variable"
   ]
  },
  {
   "cell_type": "code",
   "execution_count": 1,
   "id": "33c159b9",
   "metadata": {},
   "outputs": [
    {
     "name": "stdout",
     "output_type": "stream",
     "text": [
      "5\n",
      "6\n",
      "8\n"
     ]
    }
   ],
   "source": [
    "x = 5\n",
    "y = 6\n",
    "print(x)#This show the x values\n",
    "print(y)#This show the y values\n",
    "print(8)#This show simple 8"
   ]
  },
  {
   "cell_type": "code",
   "execution_count": 3,
   "id": "e66ee233",
   "metadata": {},
   "outputs": [
    {
     "name": "stdout",
     "output_type": "stream",
     "text": [
      "96\n",
      "7\n"
     ]
    }
   ],
   "source": [
    "x = 64 + 32\n",
    "print(x)#This show simple sum of two values\n",
    "#create a program that sums x + y\n",
    "x = 3\n",
    "y = 4\n",
    "z = x + y##This show sum of x and y\n",
    "print(z)\n"
   ]
  },
  {
   "cell_type": "markdown",
   "id": "c74102e4",
   "metadata": {},
   "source": [
    "Strings"
   ]
  },
  {
   "cell_type": "code",
   "execution_count": 5,
   "id": "2cb3e7af",
   "metadata": {},
   "outputs": [
    {
     "name": "stdout",
     "output_type": "stream",
     "text": [
      "lucky\n",
      "The date is 7/7/2016\n"
     ]
    }
   ],
   "source": [
    "s = \"My lucky number is %d, what is yours?\" % 7\n",
    "print(s[3:8])#The Slicing of string it means start with 3 elemnt and end with 8 other are skip\n",
    "#Print the day, month, year\n",
    "s = \"The date is %d/%d/%d\" % (7, 7, 2016)\n",
    "print(s)\n"
   ]
  },
  {
   "cell_type": "markdown",
   "id": "fb16e50a",
   "metadata": {},
   "source": [
    "Random numbers"
   ]
  },
  {
   "cell_type": "code",
   "execution_count": 7,
   "id": "2611e16c",
   "metadata": {},
   "outputs": [
    {
     "name": "stdout",
     "output_type": "stream",
     "text": [
      "1\n"
     ]
    }
   ],
   "source": [
    "import random # we use the Random module\n",
    "x = random.randrange(0,10)#randome . means use the function and we use first rand then function name range is function it select the random number b/w 0 to 19\n",
    "print(x)\n"
   ]
  },
  {
   "cell_type": "code",
   "execution_count": 8,
   "id": "b73d2f73",
   "metadata": {},
   "outputs": [
    {
     "name": "stdout",
     "output_type": "stream",
     "text": [
      "0\n",
      "8\n",
      "2\n"
     ]
    }
   ],
   "source": [
    "import random as r # as use for the shortcut name calling\n",
    "print(r.randrange(0,10))\n",
    "print(r.randrange(0,10))\n",
    "print(r.randrange(0,10))\n"
   ]
  },
  {
   "cell_type": "markdown",
   "id": "7c451286",
   "metadata": {},
   "source": [
    "Keyboard input"
   ]
  },
  {
   "cell_type": "code",
   "execution_count": null,
   "id": "6dccf498",
   "metadata": {},
   "outputs": [],
   "source": [
    "number = input(\"Enter number: \")# we take input from user\n",
    "print(\"Your phone number is : \" + number)\n",
    "#Make a program that asks the users preferred programming language.\n",
    "lang = input(\"Python or Ruby?: \")# we take input from user\n",
    "print(\"You chose : \" + lang)\n"
   ]
  },
  {
   "cell_type": "markdown",
   "id": "8803d502",
   "metadata": {},
   "source": [
    "If statements"
   ]
  },
  {
   "cell_type": "code",
   "execution_count": 12,
   "id": "bc9dc023",
   "metadata": {},
   "outputs": [
    {
     "name": "stdout",
     "output_type": "stream",
     "text": [
      "Number: 6\n",
      "Good choice\n"
     ]
    }
   ],
   "source": [
    "x = int(input(\"Number: \"))#if you want numbers then must use int before input\n",
    "if x < 0 or x > 10:#use if condition then use logical operator\n",
    "    print(\"Invalid number\")\n",
    "else:#if upper condition become false then move to else\n",
    "    print(\"Good choice\")"
   ]
  },
  {
   "cell_type": "code",
   "execution_count": 14,
   "id": "1f94bfc3",
   "metadata": {},
   "outputs": [
    {
     "name": "stdout",
     "output_type": "stream",
     "text": [
      "Password: code\n",
      "Correct\n"
     ]
    }
   ],
   "source": [
    "password = input(\"Password: \")\n",
    "if password == \"code\":#we use logical operator\n",
    "    print(\"Correct\")\n",
    "else:\n",
    "    print(\"Incorrect\")\n"
   ]
  },
  {
   "cell_type": "markdown",
   "id": "d3a0b450",
   "metadata": {},
   "source": [
    "Foor Loop"
   ]
  },
  {
   "cell_type": "code",
   "execution_count": 15,
   "id": "67c334e7",
   "metadata": {},
   "outputs": [
    {
     "name": "stdout",
     "output_type": "stream",
     "text": [
      "Canada\n",
      "USA\n",
      "Mexico\n",
      "Australia\n"
     ]
    }
   ],
   "source": [
    "clist = ['Canada','USA','Mexico','Australia'] #first we make a list\n",
    "for c in clist:#use for loop for printing each element in list\n",
    "    print(c)"
   ]
  },
  {
   "cell_type": "code",
   "execution_count": 16,
   "id": "7893fc60",
   "metadata": {},
   "outputs": [
    {
     "name": "stdout",
     "output_type": "stream",
     "text": [
      "Canada\n",
      "USA\n",
      "Mexico\n"
     ]
    }
   ],
   "source": [
    "clist = [\"Canada\",\"USA\",\"Mexico\"]\n",
    "size = len(clist)# it show the length of clist\n",
    "i = 0\n",
    "while i < size:#while loop must exicute one time \n",
    "    print(clist[i])\n",
    "    i = i + 1"
   ]
  },
  {
   "cell_type": "markdown",
   "id": "aadae794",
   "metadata": {},
   "source": [
    "Functions"
   ]
  },
  {
   "cell_type": "code",
   "execution_count": 24,
   "id": "539d92ff",
   "metadata": {},
   "outputs": [
    {
     "name": "stdout",
     "output_type": "stream",
     "text": [
      "1\n"
     ]
    }
   ],
   "source": [
    "def sum(list):#give on argument after sum function\n",
    "    sum = 0\n",
    "    for e in list:#use for loop\n",
    "        sum = sum + e #increment of sum\n",
    "        return sum #return value\n",
    "mylist = [1,2,3,4,5]\n",
    "print(sum(mylist))"
   ]
  },
  {
   "cell_type": "markdown",
   "id": "e45cf313",
   "metadata": {},
   "source": [
    "Lists"
   ]
  },
  {
   "cell_type": "code",
   "execution_count": 29,
   "id": "19275b29",
   "metadata": {},
   "outputs": [
    {
     "name": "stdout",
     "output_type": "stream",
     "text": [
      "Alabama\n",
      "Alaska\n",
      "Arizona\n",
      "Arkansas\n",
      "California\n",
      "Colorado\n",
      "Connecticut\n",
      "Delaware\n",
      "Florida\n",
      "Georgia\n",
      "Hawaii\n",
      "Idaho\n",
      "Illinois\n",
      "Indiana\n",
      "Iowa\n",
      "Kansas\n",
      "Kentucky\n",
      "Louisiana\n",
      "Maine\n",
      "Maryland\n",
      "Massachusetts\n",
      "Michigan\n",
      "Minnesota\n",
      "Mississippi\n",
      "Missouri\n",
      "Montana\n",
      "Nebraska\n",
      "Nevada\n",
      "NewHampshire\n",
      "New Jersey\n",
      "New Mexico\n",
      "New York\n",
      "North Carolina\n",
      "NorthDakota\n",
      "Ohio\n",
      "Oklahoma\n",
      "Oregon\n",
      "Pennsylvania\n",
      "Rhode Island\n",
      "SoutCarolina\n",
      "SouthDakota\n",
      "Tennessee\n",
      "Texas\n",
      "Utah\n",
      "Vermont\n",
      "Virginia\n",
      "Washington\n",
      "WestVirginia\n",
      "Wisconsin\n",
      "Wyoming\n"
     ]
    }
   ],
   "source": [
    "states = [\n",
    "'Alabama','Alaska','Arizona','Arkansas','California','Colorado','Connecticut', 'Delaware','Florida','Georgia','Hawaii','Idaho','Illinois','Indiana','Iowa','Kansas','Kentucky','Louisiana','Maine','Maryland','Massachusetts','Michigan','Minnesota','Mississippi','Missouri','Montana','Nebraska','Nevada','NewHampshire','New Jersey','New Mexico','New York','North Carolina','NorthDakota','Ohio','Oklahoma','Oregon','Pennsylvania','Rhode Island','SoutCarolina','SouthDakota','Tennessee','Texas','Utah','Vermont','Virginia','Washington','WestVirginia','Wisconsin','Wyoming' ]\n",
    "for state in states:\n",
    "    print(state)"
   ]
  },
  {
   "cell_type": "code",
   "execution_count": 30,
   "id": "65b501a3",
   "metadata": {},
   "outputs": [
    {
     "name": "stdout",
     "output_type": "stream",
     "text": [
      "Maine\n",
      "Maryland\n",
      "Massachusetts\n",
      "Michigan\n",
      "Minnesota\n",
      "Mississippi\n",
      "Missouri\n",
      "Montana\n"
     ]
    }
   ],
   "source": [
    "for state in states:\n",
    "    if state[0] == 'M':#element starting with M onl printing\n",
    "        print(state)\n"
   ]
  },
  {
   "cell_type": "markdown",
   "id": "d36fe756",
   "metadata": {},
   "source": [
    "List operations\n"
   ]
  },
  {
   "cell_type": "code",
   "execution_count": 31,
   "id": "e0bbbd0e",
   "metadata": {},
   "outputs": [
    {
     "name": "stdout",
     "output_type": "stream",
     "text": [
      "[6, 3, 2, 12, 8, 4]\n"
     ]
    }
   ],
   "source": [
    "y = [6,4,2]\n",
    "y.append(12)#append method add the number at the end of list\n",
    "y.append(8)\n",
    "y.append(4)\n",
    "y[1] = 3 # convert one elment with 3 number ##must remember indexing start with 0\n",
    "print(y)"
   ]
  },
  {
   "cell_type": "code",
   "execution_count": 39,
   "id": "30166a49",
   "metadata": {},
   "outputs": [
    {
     "name": "stdout",
     "output_type": "stream",
     "text": [
      "None\n"
     ]
    }
   ],
   "source": [
    "x = [(3,6),(4,7),(5,9),(8,4),(3,1)]\n",
    "print (x.sort())"
   ]
  },
  {
   "cell_type": "code",
   "execution_count": 41,
   "id": "e80d94c8",
   "metadata": {},
   "outputs": [
    {
     "name": "stdout",
     "output_type": "stream",
     "text": [
      "[(3, 1), (8, 4), (3, 6), (4, 7), (5, 9)]\n"
     ]
    }
   ],
   "source": [
    "from operator import itemgetter#import the moudlue\n",
    "x = [ (3,6),(4,7),(5,9),(8,4),(3,1)]\n",
    "x.sort(key=itemgetter(1))#it sort the list\n",
    "print(x)\n"
   ]
  },
  {
   "cell_type": "markdown",
   "id": "f46a1160",
   "metadata": {},
   "source": [
    "Range"
   ]
  },
  {
   "cell_type": "code",
   "execution_count": 42,
   "id": "2e61d427",
   "metadata": {},
   "outputs": [
    {
     "name": "stdout",
     "output_type": "stream",
     "text": [
      "[1, 2, 3, 4, 5, 6, 7, 8, 9, 10, 11, 12, 13, 14, 15, 16, 17, 18, 19, 20, 21, 22, 23, 24, 25, 26, 27, 28, 29, 30, 31, 32, 33, 34, 35, 36, 37, 38, 39, 40, 41, 42, 43, 44, 45, 46, 47, 48, 49, 50, 51, 52, 53, 54, 55, 56, 57, 58, 59, 60, 61, 62, 63, 64, 65, 66, 67, 68, 69, 70, 71, 72, 73, 74, 75, 76, 77, 78, 79, 80, 81, 82, 83, 84, 85, 86, 87, 88, 89, 90, 91, 92, 93, 94, 95, 96, 97, 98, 99, 100, 101, 102, 103, 104, 105, 106, 107, 108, 109, 110, 111, 112, 113, 114, 115, 116, 117, 118, 119, 120, 121, 122, 123, 124, 125, 126, 127, 128, 129, 130, 131, 132, 133, 134, 135, 136, 137, 138, 139, 140, 141, 142, 143, 144, 145, 146, 147, 148, 149, 150, 151, 152, 153, 154, 155, 156, 157, 158, 159, 160, 161, 162, 163, 164, 165, 166, 167, 168, 169, 170, 171, 172, 173, 174, 175, 176, 177, 178, 179, 180, 181, 182, 183, 184, 185, 186, 187, 188, 189, 190, 191, 192, 193, 194, 195, 196, 197, 198, 199, 200, 201, 202, 203, 204, 205, 206, 207, 208, 209, 210, 211, 212, 213, 214, 215, 216, 217, 218, 219, 220, 221, 222, 223, 224, 225, 226, 227, 228, 229, 230, 231, 232, 233, 234, 235, 236, 237, 238, 239, 240, 241, 242, 243, 244, 245, 246, 247, 248, 249, 250, 251, 252, 253, 254, 255, 256, 257, 258, 259, 260, 261, 262, 263, 264, 265, 266, 267, 268, 269, 270, 271, 272, 273, 274, 275, 276, 277, 278, 279, 280, 281, 282, 283, 284, 285, 286, 287, 288, 289, 290, 291, 292, 293, 294, 295, 296, 297, 298, 299, 300, 301, 302, 303, 304, 305, 306, 307, 308, 309, 310, 311, 312, 313, 314, 315, 316, 317, 318, 319, 320, 321, 322, 323, 324, 325, 326, 327, 328, 329, 330, 331, 332, 333, 334, 335, 336, 337, 338, 339, 340, 341, 342, 343, 344, 345, 346, 347, 348, 349, 350, 351, 352, 353, 354, 355, 356, 357, 358, 359, 360, 361, 362, 363, 364, 365, 366, 367, 368, 369, 370, 371, 372, 373, 374, 375, 376, 377, 378, 379, 380, 381, 382, 383, 384, 385, 386, 387, 388, 389, 390, 391, 392, 393, 394, 395, 396, 397, 398, 399, 400, 401, 402, 403, 404, 405, 406, 407, 408, 409, 410, 411, 412, 413, 414, 415, 416, 417, 418, 419, 420, 421, 422, 423, 424, 425, 426, 427, 428, 429, 430, 431, 432, 433, 434, 435, 436, 437, 438, 439, 440, 441, 442, 443, 444, 445, 446, 447, 448, 449, 450, 451, 452, 453, 454, 455, 456, 457, 458, 459, 460, 461, 462, 463, 464, 465, 466, 467, 468, 469, 470, 471, 472, 473, 474, 475, 476, 477, 478, 479, 480, 481, 482, 483, 484, 485, 486, 487, 488, 489, 490, 491, 492, 493, 494, 495, 496, 497, 498, 499, 500, 501, 502, 503, 504, 505, 506, 507, 508, 509, 510, 511, 512, 513, 514, 515, 516, 517, 518, 519, 520, 521, 522, 523, 524, 525, 526, 527, 528, 529, 530, 531, 532, 533, 534, 535, 536, 537, 538, 539, 540, 541, 542, 543, 544, 545, 546, 547, 548, 549, 550, 551, 552, 553, 554, 555, 556, 557, 558, 559, 560, 561, 562, 563, 564, 565, 566, 567, 568, 569, 570, 571, 572, 573, 574, 575, 576, 577, 578, 579, 580, 581, 582, 583, 584, 585, 586, 587, 588, 589, 590, 591, 592, 593, 594, 595, 596, 597, 598, 599, 600, 601, 602, 603, 604, 605, 606, 607, 608, 609, 610, 611, 612, 613, 614, 615, 616, 617, 618, 619, 620, 621, 622, 623, 624, 625, 626, 627, 628, 629, 630, 631, 632, 633, 634, 635, 636, 637, 638, 639, 640, 641, 642, 643, 644, 645, 646, 647, 648, 649, 650, 651, 652, 653, 654, 655, 656, 657, 658, 659, 660, 661, 662, 663, 664, 665, 666, 667, 668, 669, 670, 671, 672, 673, 674, 675, 676, 677, 678, 679, 680, 681, 682, 683, 684, 685, 686, 687, 688, 689, 690, 691, 692, 693, 694, 695, 696, 697, 698, 699, 700, 701, 702, 703, 704, 705, 706, 707, 708, 709, 710, 711, 712, 713, 714, 715, 716, 717, 718, 719, 720, 721, 722, 723, 724, 725, 726, 727, 728, 729, 730, 731, 732, 733, 734, 735, 736, 737, 738, 739, 740, 741, 742, 743, 744, 745, 746, 747, 748, 749, 750, 751, 752, 753, 754, 755, 756, 757, 758, 759, 760, 761, 762, 763, 764, 765, 766, 767, 768, 769, 770, 771, 772, 773, 774, 775, 776, 777, 778, 779, 780, 781, 782, 783, 784, 785, 786, 787, 788, 789, 790, 791, 792, 793, 794, 795, 796, 797, 798, 799, 800, 801, 802, 803, 804, 805, 806, 807, 808, 809, 810, 811, 812, 813, 814, 815, 816, 817, 818, 819, 820, 821, 822, 823, 824, 825, 826, 827, 828, 829, 830, 831, 832, 833, 834, 835, 836, 837, 838, 839, 840, 841, 842, 843, 844, 845, 846, 847, 848, 849, 850, 851, 852, 853, 854, 855, 856, 857, 858, 859, 860, 861, 862, 863, 864, 865, 866, 867, 868, 869, 870, 871, 872, 873, 874, 875, 876, 877, 878, 879, 880, 881, 882, 883, 884, 885, 886, 887, 888, 889, 890, 891, 892, 893, 894, 895, 896, 897, 898, 899, 900, 901, 902, 903, 904, 905, 906, 907, 908, 909, 910, 911, 912, 913, 914, 915, 916, 917, 918, 919, 920, 921, 922, 923, 924, 925, 926, 927, 928, 929, 930, 931, 932, 933, 934, 935, 936, 937, 938, 939, 940, 941, 942, 943, 944, 945, 946, 947, 948, 949, 950, 951, 952, 953, 954, 955, 956, 957, 958, 959, 960, 961, 962, 963, 964, 965, 966, 967, 968, 969, 970, 971, 972, 973, 974, 975, 976, 977, 978, 979, 980, 981, 982, 983, 984, 985, 986, 987, 988, 989, 990, 991, 992, 993, 994, 995, 996, 997, 998, 999, 1000]\n"
     ]
    }
   ],
   "source": [
    "x = list(range(1,1001))#range start with 1 to end the 1000\n",
    "print(x)\n"
   ]
  },
  {
   "cell_type": "code",
   "execution_count": 43,
   "id": "67815a9c",
   "metadata": {},
   "outputs": [
    {
     "name": "stdout",
     "output_type": "stream",
     "text": [
      "1\n",
      "1000\n"
     ]
    }
   ],
   "source": [
    "x = list(range(1,1001))\n",
    "print(min(x))#minimum number in the list \n",
    "print(max(x))#maximum number in the list \n"
   ]
  },
  {
   "cell_type": "code",
   "execution_count": 44,
   "id": "85715ba6",
   "metadata": {},
   "outputs": [
    {
     "name": "stdout",
     "output_type": "stream",
     "text": [
      "[1, 3, 5, 7, 9]\n",
      "[2, 4, 6, 8, 10]\n"
     ]
    }
   ],
   "source": [
    "x = list(range(1,11,2))#slicing of the list 1 means start with1 11 means end with 11 2 means skip 2 numbers\n",
    "y = list(range(2,11,2))#slicing of the list 2 means start with1 11 means end with 11 2 means skip 2 numbers\n",
    "print(x)\n",
    "print(y)\n"
   ]
  },
  {
   "cell_type": "markdown",
   "id": "5bf7b082",
   "metadata": {},
   "source": [
    "Dictionaries"
   ]
  },
  {
   "cell_type": "code",
   "execution_count": 2,
   "id": "5c98e4b3",
   "metadata": {},
   "outputs": [],
   "source": [
    "words = {}\n",
    "words[\"US\"] = \"United States\"#dictionary have values and keys\n",
    "words[\"UK\"] = \"United Kingdom\"\n",
    "words[\"AUS\"] = \"Australia\""
   ]
  },
  {
   "cell_type": "code",
   "execution_count": 3,
   "id": "acde61df",
   "metadata": {},
   "outputs": [
    {
     "name": "stdout",
     "output_type": "stream",
     "text": [
      "US = United States\n",
      "UK = United Kingdom\n",
      "AUS = Australia\n"
     ]
    }
   ],
   "source": [
    "for key, value in words.items():\n",
    "    print(key + \" = \" + value)\n"
   ]
  },
  {
   "cell_type": "markdown",
   "id": "9708fb3a",
   "metadata": {},
   "source": [
    "Read Files "
   ]
  },
  {
   "cell_type": "code",
   "execution_count": 15,
   "id": "9992613b",
   "metadata": {},
   "outputs": [
    {
     "name": "stdout",
     "output_type": "stream",
     "text": [
      "1 {\n",
      "\n",
      "2  \"cells\": [\n",
      "\n",
      "3   {\n",
      "\n",
      "4    \"cell_type\": \"code\",\n",
      "\n",
      "5    \"execution_count\": 4,\n",
      "\n",
      "6    \"id\": \"2feb8188\",\n",
      "\n",
      "7    \"metadata\": {},\n",
      "\n",
      "8    \"outputs\": [\n",
      "\n",
      "9     {\n",
      "\n",
      "10      \"data\": {\n",
      "\n",
      "11       \"text/plain\": [\n",
      "\n",
      "12        \"'Best Religious is Islam'\"\n",
      "\n",
      "13       ]\n",
      "\n",
      "14      },\n",
      "\n",
      "15      \"execution_count\": 4,\n",
      "\n",
      "16      \"metadata\": {},\n",
      "\n",
      "17      \"output_type\": \"execute_result\"\n",
      "\n",
      "18     }\n",
      "\n",
      "19    ],\n",
      "\n",
      "20    \"source\": [\n",
      "\n",
      "21     \"'i love Allah'\\n\",\n",
      "\n",
      "22     \"'I am Muslim'\\n\",\n",
      "\n",
      "23     \"'Best Religious is Islam'\"\n",
      "\n",
      "24    ]\n",
      "\n",
      "25   },\n",
      "\n",
      "26   {\n",
      "\n",
      "27    \"cell_type\": \"code\",\n",
      "\n",
      "28    \"execution_count\": null,\n",
      "\n",
      "29    \"id\": \"80497e2c\",\n",
      "\n",
      "30    \"metadata\": {},\n",
      "\n",
      "31    \"outputs\": [],\n",
      "\n",
      "32    \"source\": []\n",
      "\n",
      "33   }\n",
      "\n",
      "34  ],\n",
      "\n",
      "35  \"metadata\": {\n",
      "\n",
      "36   \"kernelspec\": {\n",
      "\n",
      "37    \"display_name\": \"Python 3 (ipykernel)\",\n",
      "\n",
      "38    \"language\": \"python\",\n",
      "\n",
      "39    \"name\": \"python3\"\n",
      "\n",
      "40   },\n",
      "\n",
      "41   \"language_info\": {\n",
      "\n",
      "42    \"codemirror_mode\": {\n",
      "\n",
      "43     \"name\": \"ipython\",\n",
      "\n",
      "44     \"version\": 3\n",
      "\n",
      "45    },\n",
      "\n",
      "46    \"file_extension\": \".py\",\n",
      "\n",
      "47    \"mimetype\": \"text/x-python\",\n",
      "\n",
      "48    \"name\": \"python\",\n",
      "\n",
      "49    \"nbconvert_exporter\": \"python\",\n",
      "\n",
      "50    \"pygments_lexer\": \"ipython3\",\n",
      "\n",
      "51    \"version\": \"3.9.13\"\n",
      "\n",
      "52   }\n",
      "\n",
      "53  },\n",
      "\n",
      "54  \"nbformat\": 4,\n",
      "\n",
      "55  \"nbformat_minor\": 5\n",
      "\n",
      "56 }\n",
      "\n"
     ]
    }
   ],
   "source": [
    "filename = \"test.py.ipynb\"#first create a file as the same name\n",
    "\n",
    "with open(filename) as f:#open file and just read \n",
    "    lines = f.readlines()\n",
    "    i = 1\n",
    "for line in lines:#use for loop for looping\n",
    "    print(str(i) + \" \" + line),\n",
    "    i = i + 1#increamnet  in 1=i"
   ]
  },
  {
   "cell_type": "code",
   "execution_count": 18,
   "id": "9d3907b1",
   "metadata": {},
   "outputs": [],
   "source": [
    "f = open(\"test.txt\",\"w\")#open as a write mode\n",
    "f.write(\"Take it easy\\n\")#write the line\n",
    "f.close()#close the file\n",
    "f = open(\"test.txt\",\"w\")\n",
    "f.write(\"open(\\\"text.txt\\\")\\n\")\n",
    "f.close()#close the file\n"
   ]
  },
  {
   "cell_type": "code",
   "execution_count": 20,
   "id": "ee2b1c8d",
   "metadata": {},
   "outputs": [
    {
     "name": "stdout",
     "output_type": "stream",
     "text": [
      "1,1\n",
      "1,2\n",
      "1,3\n",
      "2,1\n",
      "2,2\n",
      "2,3\n",
      "3,1\n",
      "3,2\n",
      "3,3\n"
     ]
    }
   ],
   "source": [
    "for x in range(1,4):\n",
    "    for y in range(1,4):#loop in loop\n",
    "        print(str(x) + \",\" + str(y))"
   ]
  },
  {
   "cell_type": "code",
   "execution_count": 21,
   "id": "66d0c867",
   "metadata": {},
   "outputs": [
    {
     "name": "stdout",
     "output_type": "stream",
     "text": [
      "John meets John\n",
      "John meets Marissa\n",
      "John meets Pete\n",
      "John meets Dayton\n",
      "Marissa meets John\n",
      "Marissa meets Marissa\n",
      "Marissa meets Pete\n",
      "Marissa meets Dayton\n",
      "Pete meets John\n",
      "Pete meets Marissa\n",
      "Pete meets Pete\n",
      "Pete meets Dayton\n",
      "Dayton meets John\n",
      "Dayton meets Marissa\n",
      "Dayton meets Pete\n",
      "Dayton meets Dayton\n"
     ]
    }
   ],
   "source": [
    "persons = [ \"John\", \"Marissa\", \"Pete\", \"Dayton\" ]\n",
    "for p1 in persons:\n",
    "    for p2 in persons:\n",
    "        print(p1 + \" meets \" + p2)\n"
   ]
  },
  {
   "cell_type": "markdown",
   "id": "54267c81",
   "metadata": {},
   "source": [
    "Slices\n"
   ]
  },
  {
   "cell_type": "code",
   "execution_count": 25,
   "id": "979f080c",
   "metadata": {},
   "outputs": [
    {
     "name": "stdout",
     "output_type": "stream",
     "text": [
      "Fromaggi\n",
      "['Napolitana', 'Diavoli']\n",
      "World\n"
     ]
    }
   ],
   "source": [
    "pizzas = [\"Hawai\",\"Pepperoni\",\"Fromaggi\",\"Napolitana\",\"Diavoli\"]\n",
    "slice = pizzas[2]#print the second index value\n",
    "print(slice)\n",
    "slice = pizzas[3:5]#start with 3 end with 5\n",
    "print(slice)\n",
    "#Slicing with text\n",
    "s = \"Hello World\"\n",
    "slices = s.split(\" \")\n",
    "print(slices[1])\n"
   ]
  },
  {
   "cell_type": "markdown",
   "id": "e62ed315",
   "metadata": {},
   "source": [
    "Multiple return"
   ]
  },
  {
   "cell_type": "code",
   "execution_count": 30,
   "id": "1e9c542b",
   "metadata": {},
   "outputs": [
    {
     "name": "stdout",
     "output_type": "stream",
     "text": [
      "6\n"
     ]
    }
   ],
   "source": [
    "#Return a+b\n",
    "def sum(a,b):\n",
    "    return a+b\n",
    "print( sum(2,4) )"
   ]
  },
  {
   "cell_type": "code",
   "execution_count": 35,
   "id": "52c9f63f",
   "metadata": {},
   "outputs": [
    {
     "name": "stdout",
     "output_type": "stream",
     "text": [
      "('Laura', 26, 'Pilot', 'University', 'Spain')\n"
     ]
    }
   ],
   "source": [
    "def getUser():\n",
    "    name = \"Laura\"\n",
    "    age = 26\n",
    "    job = \"Pilot\"\n",
    "    education = \"University\"\n",
    "    nationality = \"Spain\"\n",
    "    return name,age,job,education, nationality\n",
    "data = getUser()\n",
    "print(data)\n"
   ]
  },
  {
   "cell_type": "markdown",
   "id": "7198fe9c",
   "metadata": {},
   "source": [
    "Time and date"
   ]
  },
  {
   "cell_type": "code",
   "execution_count": 36,
   "id": "b93a21b7",
   "metadata": {},
   "outputs": [
    {
     "name": "stdout",
     "output_type": "stream",
     "text": [
      "2023-7-23\n"
     ]
    }
   ],
   "source": [
    "import time#time module\n",
    "timenow = time.localtime(time.time())\n",
    "year,month,day,hour,minute = timenow[0:5]\n",
    "print(str(year) + \"-\" + str(month) + \"-\" + str(day))"
   ]
  },
  {
   "cell_type": "markdown",
   "id": "1f35b988",
   "metadata": {},
   "source": [
    "Class\n"
   ]
  },
  {
   "cell_type": "code",
   "execution_count": 39,
   "id": "79251524",
   "metadata": {},
   "outputs": [
    {
     "name": "stdout",
     "output_type": "stream",
     "text": [
      "pythonbasics.org\n",
      "the web\n"
     ]
    }
   ],
   "source": [
    "#!/usr/bin/python\n",
    "class Website:\n",
    "    def __init__(self,title):\n",
    "        self.title = title\n",
    "        self.location = \"the web\"\n",
    "    def showTitle(self):\n",
    "        print(self.title)\n",
    "    def showLocation(self):\n",
    "        print(self.location)\n",
    "obj = Website('pythonbasics.org')\n",
    "obj.showTitle()\n",
    "obj.showLocation()\n"
   ]
  },
  {
   "cell_type": "markdown",
   "id": "3ef38fdf",
   "metadata": {},
   "source": [
    "Constructor"
   ]
  },
  {
   "cell_type": "code",
   "execution_count": 46,
   "id": "a388aaf0",
   "metadata": {},
   "outputs": [
    {
     "data": {
      "text/plain": [
       "<__main__.Human at 0x261725a9160>"
      ]
     },
     "execution_count": 46,
     "metadata": {},
     "output_type": "execute_result"
    }
   ],
   "source": [
    "# Alice = Human()\n",
    "# Chris = Human()\n",
    "#second solution\n",
    "class Human:\n",
    "    def __init__(self):\n",
    "        self.legs = 2\n",
    "        self.arms = 2\n",
    "        self.eyes = 2\n",
    "Human()"
   ]
  },
  {
   "cell_type": "markdown",
   "id": "bb18da64",
   "metadata": {},
   "source": [
    "Getter and setter"
   ]
  },
  {
   "cell_type": "code",
   "execution_count": 2,
   "id": "c20c753e",
   "metadata": {},
   "outputs": [
    {
     "name": "stdout",
     "output_type": "stream",
     "text": [
      "Carpenter\n",
      "33\n"
     ]
    }
   ],
   "source": [
    "class Friend:\n",
    "    def __init__(self):\n",
    "        self.job = \"None\"\n",
    "        self.age = 0\n",
    "    def getJob(self):\n",
    "        return self.job\n",
    "    def setJob(self, job):\n",
    "        self.job = job\n",
    "    def getAge(self):\n",
    "        return self.age\n",
    "    def setAge(self, age):\n",
    "        self.age = age\n",
    "Alice = Friend()\n",
    "Alice.setJob(\"Carpenter\")\n",
    "Alice.setAge(33)\n",
    "print(Alice.job)\n",
    "print(Alice.age)"
   ]
  },
  {
   "cell_type": "markdown",
   "id": "993180ee",
   "metadata": {},
   "source": [
    "Modules"
   ]
  },
  {
   "cell_type": "code",
   "execution_count": 5,
   "id": "89d4a5d0",
   "metadata": {},
   "outputs": [
    {
     "name": "stdout",
     "output_type": "stream",
     "text": [
      "0.1411200080598672\n"
     ]
    },
    {
     "ename": "NameError",
     "evalue": "name 'App' is not defined",
     "output_type": "error",
     "traceback": [
      "\u001b[1;31m---------------------------------------------------------------------------\u001b[0m",
      "\u001b[1;31mNameError\u001b[0m                                 Traceback (most recent call last)",
      "\u001b[1;32m~\\AppData\\Local\\Temp\\ipykernel_11360\\4293654898.py\u001b[0m in \u001b[0;36m<module>\u001b[1;34m\u001b[0m\n\u001b[0;32m      3\u001b[0m \u001b[1;31m# Inheritance\u001b[0m\u001b[1;33m\u001b[0m\u001b[1;33m\u001b[0m\u001b[0m\n\u001b[0;32m      4\u001b[0m \u001b[1;31m# first exercise\u001b[0m\u001b[1;33m\u001b[0m\u001b[1;33m\u001b[0m\u001b[0m\n\u001b[1;32m----> 5\u001b[1;33m \u001b[1;32mclass\u001b[0m \u001b[0miPhone\u001b[0m\u001b[1;33m(\u001b[0m\u001b[0mApp\u001b[0m\u001b[1;33m)\u001b[0m\u001b[1;33m:\u001b[0m\u001b[1;33m\u001b[0m\u001b[1;33m\u001b[0m\u001b[0m\n\u001b[0m\u001b[0;32m      6\u001b[0m     \u001b[1;32mdef\u001b[0m \u001b[0mgetVersion\u001b[0m\u001b[1;33m(\u001b[0m\u001b[0mself\u001b[0m\u001b[1;33m)\u001b[0m\u001b[1;33m:\u001b[0m\u001b[1;33m\u001b[0m\u001b[1;33m\u001b[0m\u001b[0m\n\u001b[0;32m      7\u001b[0m         \u001b[0mprint\u001b[0m\u001b[1;33m(\u001b[0m\u001b[1;34m'iPhone version'\u001b[0m\u001b[1;33m)\u001b[0m\u001b[1;33m\u001b[0m\u001b[1;33m\u001b[0m\u001b[0m\n",
      "\u001b[1;31mNameError\u001b[0m: name 'App' is not defined"
     ]
    }
   ],
   "source": [
    "import math\n",
    "print(math.sin(3))\n",
    "# Inheritance\n",
    "# first exercise\n",
    "class iPhone(App):\n",
    "    def getVersion(self):\n",
    "        print('iPhone version')\n",
    "iphone()"
   ]
  },
  {
   "cell_type": "code",
   "execution_count": 6,
   "id": "539a6e94",
   "metadata": {},
   "outputs": [
    {
     "name": "stdout",
     "output_type": "stream",
     "text": [
      "starting\n",
      "go\n"
     ]
    }
   ],
   "source": [
    "class A:\n",
    "    def start(self):\n",
    "        print('starting')\n",
    "class B:\n",
    "    def go(self):\n",
    "        print('go')\n",
    "class C(A,B):\n",
    "    def getVersion(self):\n",
    "        print('Multiple inheritance class')\n",
    "app = C()\n",
    "app.start()\n",
    "app.go()\n"
   ]
  },
  {
   "cell_type": "markdown",
   "id": "a57d0d65",
   "metadata": {},
   "source": [
    "Enummerate"
   ]
  },
  {
   "cell_type": "code",
   "execution_count": 7,
   "id": "5b25b275",
   "metadata": {},
   "outputs": [
    {
     "name": "stdout",
     "output_type": "stream",
     "text": [
      "(0, 'a')\n",
      "(1, 'b')\n",
      "(2, 'c')\n",
      "(3, 'd')\n"
     ]
    }
   ],
   "source": [
    "for item in enumerate([\"a\", \"b\", \"c\",\"d\"]):\n",
    "    print(item)"
   ]
  },
  {
   "cell_type": "code",
   "execution_count": null,
   "id": "7cc40d9b",
   "metadata": {},
   "outputs": [],
   "source": []
  }
 ],
 "metadata": {
  "kernelspec": {
   "display_name": "Python 3 (ipykernel)",
   "language": "python",
   "name": "python3"
  },
  "language_info": {
   "codemirror_mode": {
    "name": "ipython",
    "version": 3
   },
   "file_extension": ".py",
   "mimetype": "text/x-python",
   "name": "python",
   "nbconvert_exporter": "python",
   "pygments_lexer": "ipython3",
   "version": "3.9.13"
  }
 },
 "nbformat": 4,
 "nbformat_minor": 5
}
